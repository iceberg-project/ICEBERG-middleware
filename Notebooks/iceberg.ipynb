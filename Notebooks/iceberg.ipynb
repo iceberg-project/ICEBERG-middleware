{
 "cells": [
  {
   "cell_type": "markdown",
   "metadata": {},
   "source": [
    "## ICEBERG -- deployment\n",
    "\n",
    "---\n",
    "\n",
    "This jupyter notebook calls the ICEBERG middleware and your selection of use case code. (Currently, only available for seals prediction use case)"
   ]
  },
  {
   "cell_type": "markdown",
   "metadata": {},
   "source": [
    "### Install middleware"
   ]
  },
  {
   "cell_type": "code",
   "execution_count": null,
   "metadata": {},
   "outputs": [],
   "source": [
    "git clone https://github.com/ICEBERG-project/ICEBERG-middleware.git\n",
    "cd ICEBERG-middeware\n",
    "pip install . --upgrade"
   ]
  },
  {
   "cell_type": "markdown",
   "metadata": {},
   "source": [
    "### Set args"
   ]
  },
  {
   "cell_type": "code",
   "execution_count": null,
   "metadata": {},
   "outputs": [],
   "source": [
    "ANALYSIS = \"seals\" # {seals,penguins,4Dgeolocation,rivers,landcover} ...\n",
    "RESOURCE = \"xsede.bridges\"\n",
    "QUEUE =  \"GPU-small\"\n",
    "CPUS = \"32\"\n",
    "GPUS = \"2\"\n",
    "INPUT_PATH = \"./SealsImages\"\n",
    "OUTPUT_PATH = \"./\" \n",
    "WALLTIME = \"01:00:00\"\n",
    "# analysis specific args below"
   ]
  },
  {
   "cell_type": "markdown",
   "metadata": {},
   "source": [
    "### Call detection pipeline with defaults \n",
    " "
   ]
  },
  {
   "cell_type": "code",
   "execution_count": null,
   "metadata": {
    "scrolled": true
   },
   "outputs": [],
   "source": [
    "iceberg [-h] --resource RESOURCE --queue QUEUE --cpus CPUS \\\n",
    "               --gpus GPUS --input_path INPUT_PATH \\\n",
    "               --output_path OUTPUT_PATH --walltime WALLTIME \\\n",
    "               --analysis ANALYSIS"
   ]
  }
 ],
 "metadata": {
  "kernelspec": {
   "display_name": "Python 2",
   "language": "python",
   "name": "python2"
  },
  "language_info": {
   "codemirror_mode": {
    "name": "ipython",
    "version": 2
   },
   "file_extension": ".py",
   "mimetype": "text/x-python",
   "name": "python",
   "nbconvert_exporter": "python",
   "pygments_lexer": "ipython2",
   "version": "2.7.16"
  }
 },
 "nbformat": 4,
 "nbformat_minor": 2
}
