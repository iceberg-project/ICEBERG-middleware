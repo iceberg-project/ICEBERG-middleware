{
 "cells": [
  {
   "cell_type": "markdown",
   "metadata": {},
   "source": [
    "## iceberg_seals.predicting -- deployment\n",
    "\n",
    "---\n",
    "\n",
    "This jupyter notebook sets up and performs predictions for the ICEBERG Seals use case but can be used for general apllication of any trained Unet type CNN model."
   ]
  },
  {
   "cell_type": "markdown",
   "metadata": {},
   "source": [
    "### Install code"
   ]
  },
  {
   "cell_type": "code",
   "execution_count": null,
   "metadata": {},
   "outputs": [],
   "source": [
    "import os\n",
    "os.system('module load cuda')\n",
    "os.system('module load python3')\n",
    "os.system('virtualenv iceberg_seals')\n",
    "os.system('source iceberg_seals/bin/activate')\n",
    "os.system('export PYTHONPATH=iceberg_seals/lib/python3.5/site-packages')\n",
    "os.system('pip install iceberg_seals.search')"
   ]
  },
  {
   "cell_type": "markdown",
   "metadata": {},
   "source": [
    "### Set parameters\n",
    "\n",
    "---\n",
    "\n",
    "These default parameters can be changed if needed\n",
    " "
   ]
  },
  {
   "cell_type": "code",
   "execution_count": null,
   "metadata": {
    "scrolled": true
   },
   "outputs": [],
   "source": [
    "tile_size = 299\n",
    "input_dir = './IN'\n",
    "output_dir = './test'"
   ]
  },
  {
   "cell_type": "markdown",
   "metadata": {},
   "source": [
    "### Run tiling"
   ]
  },
  {
   "cell_type": "code",
   "execution_count": null,
   "metadata": {},
   "outputs": [],
   "source": [
    "iceberg_seals.tiling --scale_bands=tile_size --input_image=input_dir --output_folder=output_dir"
   ]
  }
 ],
 "metadata": {
  "kernelspec": {
   "display_name": "Python 2",
   "language": "python",
   "name": "python2"
  },
  "language_info": {
   "codemirror_mode": {
    "name": "ipython",
    "version": 2
   },
   "file_extension": ".py",
   "mimetype": "text/x-python",
   "name": "python",
   "nbconvert_exporter": "python",
   "pygments_lexer": "ipython2",
   "version": "2.7.16"
  }
 },
 "nbformat": 4,
 "nbformat_minor": 2
}
